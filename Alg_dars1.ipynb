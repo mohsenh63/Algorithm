{
 "cells": [
  {
   "cell_type": "markdown",
   "metadata": {},
   "source": [
    "\n",
    "الگوریتم‌های طراحی و تحلیل الگوریتم\n",
    "\n",
    "محسن هوشمند\n",
    "\n",
    "دروس تحلیل و تقسیم و غلبه"
   ]
  },
  {
   "cell_type": "code",
   "execution_count": 7,
   "metadata": {},
   "outputs": [
    {
     "ename": "ValueError",
     "evalue": "120 is not in list",
     "output_type": "error",
     "traceback": [
      "\u001b[1;31m---------------------------------------------------------------------------\u001b[0m",
      "\u001b[1;31mValueError\u001b[0m                                Traceback (most recent call last)",
      "\u001b[1;32m<ipython-input-7-ad60c55f1033>\u001b[0m in \u001b[0;36m<module>\u001b[1;34m\u001b[0m\n\u001b[0;32m      1\u001b[0m \u001b[0madadha\u001b[0m\u001b[1;33m=\u001b[0m \u001b[1;33m[\u001b[0m\u001b[1;36m12\u001b[0m\u001b[1;33m,\u001b[0m \u001b[1;36m2\u001b[0m\u001b[1;33m,\u001b[0m \u001b[1;36m4\u001b[0m\u001b[1;33m,\u001b[0m \u001b[1;36m7\u001b[0m\u001b[1;33m,\u001b[0m \u001b[1;36m13\u001b[0m\u001b[1;33m,\u001b[0m \u001b[1;36m24\u001b[0m\u001b[1;33m,\u001b[0m \u001b[1;36m12\u001b[0m\u001b[1;33m]\u001b[0m\u001b[1;33m\u001b[0m\u001b[0m\n\u001b[1;32m----> 2\u001b[1;33m \u001b[0madadha\u001b[0m\u001b[1;33m.\u001b[0m\u001b[0mindex\u001b[0m\u001b[1;33m(\u001b[0m\u001b[1;36m120\u001b[0m\u001b[1;33m)\u001b[0m\u001b[1;33m\u001b[0m\u001b[0m\n\u001b[0m",
      "\u001b[1;31mValueError\u001b[0m: 120 is not in list"
     ]
    }
   ],
   "source": [
    "adadha= [12, 2, 4, 7, 13, 24, 12]\n",
    "adadha.index(120)"
   ]
  },
  {
   "cell_type": "code",
   "execution_count": null,
   "metadata": {},
   "outputs": [],
   "source": []
  },
  {
   "cell_type": "code",
   "execution_count": 8,
   "metadata": {},
   "outputs": [],
   "source": [
    "def jostejo(mqadir, kelid):\n",
    "    \"\"\"yaftan andis mqdare kelid\"\"\"\n",
    "    andis = -1\n",
    "    for i in range(len(mqadir)):\n",
    "        if mqadir[i] == kelid:\n",
    "            andis = i\n",
    "            break\n",
    "    if andis == -1:\n",
    "        print('hichi!!')\n",
    "    return andis\n",
    "    "
   ]
  },
  {
   "cell_type": "code",
   "execution_count": 10,
   "metadata": {},
   "outputs": [
    {
     "name": "stdout",
     "output_type": "stream",
     "text": [
      "hichi!!\n"
     ]
    },
    {
     "data": {
      "text/plain": [
       "-1"
      ]
     },
     "execution_count": 10,
     "metadata": {},
     "output_type": "execute_result"
    }
   ],
   "source": [
    "jostejo(adadha, 72)"
   ]
  },
  {
   "cell_type": "code",
   "execution_count": 11,
   "metadata": {},
   "outputs": [],
   "source": [
    "adadha2= [4, 12, 15, 26, 63, 120]"
   ]
  },
  {
   "cell_type": "code",
   "execution_count": 13,
   "metadata": {},
   "outputs": [],
   "source": [
    "def jostejo2(mqadir, kelid):\n",
    "    chap = 0\n",
    "    rast = len(mqadir) - 1\n",
    "    while chap <= rast:\n",
    "        a_miani = int((chap + rast) / 2)\n",
    "        if kelid > mqadir[a_miani]:\n",
    "            chap = a_miani + 1\n",
    "        elif kelid < mqadir[a_miani]:\n",
    "            rast = a_miani - 1\n",
    "        else:\n",
    "            return a_miani\n",
    "    return -1\n",
    "        \n",
    "        "
   ]
  },
  {
   "cell_type": "code",
   "execution_count": 16,
   "metadata": {},
   "outputs": [
    {
     "data": {
      "text/plain": [
       "-1"
      ]
     },
     "execution_count": 16,
     "metadata": {},
     "output_type": "execute_result"
    }
   ],
   "source": [
    "jostejo2(adadha2, 163)"
   ]
  },
  {
   "cell_type": "code",
   "execution_count": 17,
   "metadata": {},
   "outputs": [],
   "source": [
    "def andis_bish(feh):\n",
    "    b = feh[0]\n",
    "    b_a = 0\n",
    "    for i in range(1, len(feh)):\n",
    "        if b < feh[i]:\n",
    "            b = feh[i]\n",
    "            b_a = i\n",
    "    return b_a    "
   ]
  },
  {
   "cell_type": "code",
   "execution_count": 21,
   "metadata": {},
   "outputs": [
    {
     "name": "stdout",
     "output_type": "stream",
     "text": [
      "[12, 3, 5, 12, 32, 76, 9]\n",
      "[76, 32, 12, 12, 9, 5, 3]\n"
     ]
    }
   ],
   "source": [
    "def MorattabSazi_badvi(feh):\n",
    "    feh_mortab = []\n",
    "    while len(feh) > 0:\n",
    "        feh_mortab.append(feh.pop(andis_bish(feh)))\n",
    "    return feh_mortab\n",
    "adadha = [12, 3, 5, 12, 32, 76, 9]\n",
    "print(adadha)\n",
    "print(MorattabSazi_badvi(adadha))\n",
    "    "
   ]
  },
  {
   "cell_type": "code",
   "execution_count": 22,
   "metadata": {},
   "outputs": [],
   "source": [
    "def fibo(n):\n",
    "    if n == 0:\n",
    "        return 1\n",
    "    elif n == 1:\n",
    "        return 1\n",
    "    else:\n",
    "        return fibo(n - 1) + fibo(n - 2)\n"
   ]
  },
  {
   "cell_type": "code",
   "execution_count": 24,
   "metadata": {},
   "outputs": [],
   "source": [
    "def fibo2(n):\n",
    "    f = [0] * (n + 1)\n",
    "    f[0]  = 1\n",
    "    f[1] = 1\n",
    "    for i in range(2, n+1):\n",
    "        f[i] = f[i - 1] + f[i - 2]\n",
    "    return f[n]\n"
   ]
  },
  {
   "cell_type": "code",
   "execution_count": 25,
   "metadata": {},
   "outputs": [],
   "source": [
    "def fbo3(n):\n",
    "    f_2qabli = 1\n",
    "    f_qabli = 1\n",
    "    if n == 0 or n == 1:\n",
    "        return 1\n",
    "    for i in range(2, n + 1):\n",
    "        f = f_qabli + f_2qabli\n",
    "        f_2qabli = f_qabli\n",
    "        f_qabli = f\n",
    "    return f"
   ]
  },
  {
   "cell_type": "code",
   "execution_count": 3,
   "metadata": {
    "scrolled": true
   },
   "outputs": [
    {
     "name": "stdout",
     "output_type": "stream",
     "text": [
      "(-10, 1330)\n"
     ]
    }
   ],
   "source": [
    "A= [12, 13, 14, 2, -10, 67, 1330, 47, 9, 5]\n",
    "\n",
    "def yaftan_kam_bish_sade(A):\n",
    "    kam = bish = A[0]\n",
    "    for i in range(1, len(A)):\n",
    "        if A[i] > bish:\n",
    "            bish = A[i]\n",
    "        if A[i] < kam:\n",
    "            kam = A[i]\n",
    "    return kam, bish\n",
    "\n",
    "print(yaftan_kam_bish_sade(A))"
   ]
  },
  {
   "cell_type": "code",
   "execution_count": 5,
   "metadata": {},
   "outputs": [
    {
     "name": "stdout",
     "output_type": "stream",
     "text": [
      "(-10, 1330)\n"
     ]
    }
   ],
   "source": [
    "A= [12, 13, 14, 2, -10, 67, 1330, 47, 9, 5]\n",
    "\n",
    "def yaftan_kam_bish_ToQ(A, c, r):\n",
    "    n = r - c + 1\n",
    "    if n <= 2:\n",
    "        if A[c] <= A[r]:\n",
    "            kam, bish = A[c], A[r]\n",
    "        else:\n",
    "            bish, kam = A[c], A[r]\n",
    "    else:\n",
    "        vasat = int( (r + c) / 2)\n",
    "        kam_c, bish_c = yaftan_kam_bish_ToQ(A, c, vasat)\n",
    "        kam_r, bish_r = yaftan_kam_bish_ToQ(A, vasat + 1, r)\n",
    "        bish = bish_c if bish_c > bish_r else bish_r\n",
    "        kam = kam_c if kam_c < kam_r else kam_r\n",
    "    \n",
    "    return kam, bish\n",
    "\n",
    "print(yaftan_kam_bish_ToQ(A, 0, len(A) - 1))"
   ]
  },
  {
   "cell_type": "code",
   "execution_count": 1,
   "metadata": {},
   "outputs": [
    {
     "name": "stdout",
     "output_type": "stream",
     "text": [
      "[1, -2, -5, 19, -10, -11, 20]\n"
     ]
    }
   ],
   "source": [
    "def zarb_chndJmleye_Sade(A, B):\n",
    "    n = len(A)\n",
    "    C = [0] * (2 * n - 1)\n",
    "    for i in range(n):\n",
    "        for j in range(n):\n",
    "            C[i + j] += A[i] * B[j]\n",
    "    return C\n",
    "A = [1, 1, -3, 4]\n",
    "B = [1, -3, 1, 5]\n",
    "print(zarb_chndJmleye_Sade(A,B))"
   ]
  },
  {
   "cell_type": "code",
   "execution_count": 5,
   "metadata": {
    "scrolled": true
   },
   "outputs": [
    {
     "name": "stdout",
     "output_type": "stream",
     "text": [
      "[1, -2, -5, 19, -10, -11, 20]\n",
      "[1, -2, -5, 19, -10, -11, 20]\n"
     ]
    }
   ],
   "source": [
    "def zarb_chndJmleye_ToQ(A, B):\n",
    "    n = len(A)\n",
    "    C = [0] * (2 * n - 1)\n",
    "    if n == 1:\n",
    "        C[0] = A[0] * B[0]\n",
    "    else:\n",
    "        nim_n = n // 2\n",
    "        Ac = [0] * nim_n\n",
    "        Ar = [0] * (n - nim_n)\n",
    "        Bc = [0] * nim_n\n",
    "        Br = [0] * (n - nim_n)\n",
    "        \n",
    "        for i in range(nim_n):\n",
    "            Ac[i] = A[i]\n",
    "            Bc[i] = B[i]\n",
    "        \n",
    "        \n",
    "        for i in range(nim_n, n):\n",
    "            Ar[i - nim_n] = A[i]\n",
    "            Br[i - nim_n] = B[i]\n",
    "        #Ar = [A[i - nim_n] for i in range(nim_n, n)]\n",
    "        \n",
    "        Cc = zarb_chndJmleye_ToQ(Ac, Bc)\n",
    "        Ccr = zarb_chndJmleye_ToQ(Ac, Br)\n",
    "        Crc = zarb_chndJmleye_ToQ(Ar, Bc)\n",
    "        Cr = zarb_chndJmleye_ToQ(Ar, Br)\n",
    "        \n",
    "        for i in range(n - 1):\n",
    "            C[i] = Cc[i]\n",
    "        for i in range(n - 1):\n",
    "            C[n + i] = Cr[i]\n",
    "        for i in range(n - 1):\n",
    "            #????\n",
    "            C[nim_n + i] = C[nim_n + i] + Ccr[i] + Crc[i]\n",
    "    return C\n",
    "print(zarb_chndJmleye_Sade([1, 1, -3, 4], [1, -3, 1, 5]))\n",
    "print(zarb_chndJmleye_ToQ([1, 1, -3, 4], [1, -3, 1, 5]))    "
   ]
  },
  {
   "cell_type": "code",
   "execution_count": 7,
   "metadata": {},
   "outputs": [
    {
     "name": "stdout",
     "output_type": "stream",
     "text": [
      "[1, -2, -5, 19, -10, -11, 20]\n",
      "[1, -2, -5, 19, -10, -11, 20]\n",
      "[1, -2, -5, 19, -10, -11, 20]\n"
     ]
    }
   ],
   "source": [
    "def zarb_chndJmleye_ToQ2(A, B):\n",
    "    n = len(A)\n",
    "    C = [0] * (2 * n - 1)\n",
    "    if n == 1:\n",
    "        C[0] = A[0] * B[0]\n",
    "    else:\n",
    "        nim_n = n // 2\n",
    "        Ac = [0] * nim_n\n",
    "        Ar = [0] * (n - nim_n)\n",
    "        Bc = [0] * nim_n\n",
    "        Br = [0] * (n - nim_n)\n",
    "        T1 = [0] * max(len(Ac), len(Ar))\n",
    "        T2 = [0] * max(len(Bc), len(Br))\n",
    "        for i in range(nim_n):\n",
    "            Ac[i] = A[i]\n",
    "            Bc[i] = B[i]\n",
    "        for i in range(nim_n, n):\n",
    "            Ar[i - nim_n] = A[i]\n",
    "            Br[i - nim_n] = B[i]\n",
    "            \n",
    "        for i in range(len(T1)):\n",
    "            T1[i] = Ac[i] + Ar[i]\n",
    "        for i in range(len(T2)):\n",
    "            T2[i] = Bc[i] + Br[i]\n",
    "        \n",
    "       \n",
    "        #Ar = [A[i - nim_n] for i in range(nim_n, n)]\n",
    "        \n",
    "        Cc = zarb_chndJmleye_ToQ2(Ac, Bc)\n",
    "        Cr = zarb_chndJmleye_ToQ2(Ar, Br)\n",
    "        Cv = zarb_chndJmleye_ToQ2(T1, T2)\n",
    "        \n",
    "        \n",
    "        for i in range(n - 1):\n",
    "            C[i] = Cc[i]\n",
    "        for i in range(n - 1):\n",
    "            C[n + i] = Cr[i]\n",
    "        for i in range(n - 1):\n",
    "            #????\n",
    "            C[nim_n + i] = C[nim_n + i] + Cv[i] - Cc[i] - Cr[i]\n",
    "    return C\n",
    "print(zarb_chndJmleye_Sade([1, 1, -3, 4], [1, -3, 1, 5]))\n",
    "print(zarb_chndJmleye_ToQ([1, 1, -3, 4], [1, -3, 1, 5]))   \n",
    "print(zarb_chndJmleye_ToQ2([1, 1, -3, 4], [1, -3, 1, 5]))    "
   ]
  },
  {
   "cell_type": "code",
   "execution_count": 8,
   "metadata": {
    "scrolled": true
   },
   "outputs": [
    {
     "name": "stdout",
     "output_type": "stream",
     "text": [
      "[1, -2, 1, 1, -4, 19, 20]\n",
      "[1, -2, 1, 1, -4, 19, 20]\n",
      "[1, -2, 1, 1, -4, 19, 20]\n"
     ]
    }
   ],
   "source": [
    "print(zarb_chndJmleye_Sade([1, 1, +3, 4], [1, -3, 1, 5]))\n",
    "print(zarb_chndJmleye_ToQ([1, 1, +3, 4], [1, -3, 1, 5]))   \n",
    "print(zarb_chndJmleye_ToQ2([1, 1, +3, 4], [1, -3, 1, 5]))  "
   ]
  },
  {
   "cell_type": "code",
   "execution_count": 9,
   "metadata": {},
   "outputs": [
    {
     "data": {
      "text/plain": [
       "1000000000000.0"
      ]
     },
     "execution_count": 9,
     "metadata": {},
     "output_type": "execute_result"
    }
   ],
   "source": [
    "1e6 ** 2"
   ]
  },
  {
   "cell_type": "code",
   "execution_count": 10,
   "metadata": {},
   "outputs": [
    {
     "data": {
      "text/plain": [
       "3019951720.402019"
      ]
     },
     "execution_count": 10,
     "metadata": {},
     "output_type": "execute_result"
    }
   ],
   "source": [
    "1e6 ** 1.58"
   ]
  },
  {
   "cell_type": "code",
   "execution_count": 4,
   "metadata": {
    "scrolled": true
   },
   "outputs": [
    {
     "data": {
      "text/plain": [
       "[-10, 1, 13, 14, 21, 22, 56, 76, 98]"
      ]
     },
     "execution_count": 4,
     "metadata": {},
     "output_type": "execute_result"
    }
   ],
   "source": [
    "def morattabsazi_Sarie(A, c, r):\n",
    "    if c < r:\n",
    "        m = efraz(A, c, r)\n",
    "        morattabsazi_Sarie(A, c , m - 1)\n",
    "        morattabsazi_Sarie(A, m + 1, r)\n",
    "    \n",
    "def efraz(A, c, r):\n",
    "    meh = A[r]\n",
    "    i = c - 1\n",
    "    for j in range(c, r):\n",
    "        if A[j] <= meh:\n",
    "            i += 1\n",
    "            A[i], A[j] = A[j], A[i]\n",
    "    A[i + 1], A[r] = A[r], A[i + 1]\n",
    "    return i + 1\n",
    "\n",
    "A = [21, 13, 14, 56, 76, 98, 1, -10, 22]\n",
    "morattabsazi_Sarie(A, 0, len(A) - 1)\n",
    "A\n",
    "\n",
    "\n",
    "            \n",
    "    "
   ]
  },
  {
   "cell_type": "code",
   "execution_count": 6,
   "metadata": {},
   "outputs": [
    {
     "data": {
      "text/plain": [
       "[-10, 1, 13, 14, 21, 22, 56, 76, 98]"
      ]
     },
     "execution_count": 6,
     "metadata": {},
     "output_type": "execute_result"
    }
   ],
   "source": [
    "def morattabsazi_Sarie_Tasadofi(A, c, r):\n",
    "    if c < r:\n",
    "        m = efraz_tasadofi(A, c, r)\n",
    "        morattabsazi_Sarie(A, c , m - 1)\n",
    "        morattabsazi_Sarie(A, m + 1, r)\n",
    "    \n",
    "\n",
    "def efraz_tasadofi(A, c, r):\n",
    "    m = random.randint(c, r)\n",
    "    A[m], A[r] = A[r], A[m]\n",
    "    return efraz(A, c, r)\n",
    "\n",
    "import random\n",
    "A = [21, 13, 14, 56, 76, 98, 1, -10, 22]\n",
    "morattabsazi_Sarie_Tasadofi(A, 0, len(A) - 1)\n",
    "A"
   ]
  }
 ],
 "metadata": {
  "kernelspec": {
   "display_name": "Python 3",
   "language": "python",
   "name": "python3"
  },
  "language_info": {
   "codemirror_mode": {
    "name": "ipython",
    "version": 3
   },
   "file_extension": ".py",
   "mimetype": "text/x-python",
   "name": "python",
   "nbconvert_exporter": "python",
   "pygments_lexer": "ipython3",
   "version": "3.6.2"
  }
 },
 "nbformat": 4,
 "nbformat_minor": 4
}
